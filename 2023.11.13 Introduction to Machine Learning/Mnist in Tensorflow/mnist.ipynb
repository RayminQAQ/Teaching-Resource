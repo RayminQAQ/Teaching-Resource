{
 "cells": [
  {
   "cell_type": "code",
   "execution_count": null,
   "metadata": {},
   "outputs": [],
   "source": [
    "import tensorflow as tf\n",
    "\n",
    "# 資料預處理: 引入mnist資料集\n",
    "(x_train_image, y_train_label), (x_test_image, y_test_label) = tf.keras.datasets.mnist.load_data()\n",
    "\n",
    "# Build model\n",
    "# CNN: mnist shape(28x28x1)\n",
    "model = tf.keras.models.Sequential()\n",
    "model.add(tf.keras.layers.Conv2D(32, (3, 3), activation='relu', input_shape=(28, 28, 1)))\n",
    "model.add(tf.keras.layers.MaxPooling2D((2, 2)))\n",
    "\n",
    "# FNN: fully connect network\n",
    "model.add(tf.keras.layers.Flatten())\n",
    "#model.add(tf.keras.layers.BatchNormalization())\n",
    "model.add(tf.keras.layers.Dense(28*28, activation='relu'))\n",
    "#model.add(tf.keras.layers.BatchNormalization())\n",
    "model.add(tf.keras.layers.Dense(10, activation='relu'))\n",
    "\n",
    "# Select compile method: optimizer, loss function\n",
    "model.compile(\n",
    "    optimizer='adam',\n",
    "    loss=tf.keras.losses.SparseCategoricalCrossentropy(from_logits=True),\n",
    "    metrics=['accuracy']\n",
    ")\n",
    "\n",
    "# Train & Test the model\n",
    "history = model.fit(x_train_image, y_train_label, epochs=10,\n",
    "                    validation_data=(x_test_image, y_test_label))\n",
    "\n",
    "# Model Structure\n",
    "print(\"Model Structure\")\n",
    "model.summary()\n",
    "\n",
    "# Model train && validation history\n",
    "print(\"Model Performance Analysis\")\n",
    "print(history.history)\n",
    "print(f\"The Overall Accuracy: {history.history['loss']}\")\n",
    "print(f\"The Overall validation Accuracy: {history.history['val_accuracy']}\")\n",
    "\n",
    "\"\"\"\n",
    "Useful tutorial:\n",
    "- https://hackmd.io/@zengyu/r1jBeLRQh\n",
    "- https://blog.csdn.net/weixin_46072771/article/details/108591263\n",
    "- https://keras.io/zh/models/model/\n",
    "\"\"\""
   ]
  }
 ],
 "metadata": {
  "language_info": {
   "name": "python"
  }
 },
 "nbformat": 4,
 "nbformat_minor": 2
}
